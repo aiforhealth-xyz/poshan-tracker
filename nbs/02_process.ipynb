{
 "cells": [
  {
   "cell_type": "markdown",
   "metadata": {},
   "source": [
    "# Step 2. Process Data"
   ]
  },
  {
   "cell_type": "code",
   "execution_count": null,
   "metadata": {},
   "outputs": [],
   "source": [
    "import warnings\n",
    "warnings.filterwarnings(\"ignore\")\n",
    "\n",
    "import re\n",
    "import os\n",
    "import time\n",
    "from datetime import datetime\n",
    "import glob\n",
    "\n",
    "import json\n",
    "from tqdm import tqdm\n",
    "\n",
    "import pandas as pd\n",
    "pd.set_option('display.max_rows', 50)"
   ]
  },
  {
   "cell_type": "code",
   "execution_count": null,
   "metadata": {},
   "outputs": [],
   "source": [
    "data_dir = '../data'\n",
    "os.makedirs(data_dir, exist_ok=True)"
   ]
  },
  {
   "cell_type": "code",
   "execution_count": null,
   "metadata": {},
   "outputs": [],
   "source": [
    "with open(f'{data_dir}/months.json') as f:\n",
    "    months = json.load(f)\n",
    "\n",
    "df_months = pd.DataFrame(months)\n",
    "print(df_months.shape)\n",
    "df_months.head(3)"
   ]
  },
  {
   "cell_type": "code",
   "execution_count": null,
   "metadata": {},
   "outputs": [],
   "source": [
    "with open(f'{data_dir}/states.json') as f:\n",
    "    states = json.load(f)\n",
    "\n",
    "df_states = pd.DataFrame(states)\n",
    "print(df_states.shape)\n",
    "df_states.head(3)"
   ]
  },
  {
   "cell_type": "code",
   "execution_count": null,
   "metadata": {},
   "outputs": [],
   "source": [
    "with open(f'{data_dir}/districts.json') as f:\n",
    "    districts = json.load(f)\n",
    "\n",
    "df_districts = []\n",
    "for state in districts:\n",
    "    for district in state['districts']:\n",
    "        district['state_id'] = state['state']['value']\n",
    "        district['state_name'] = state['state']['name']\n",
    "        district['district_id'] = district.pop('value')\n",
    "        district['district_name'] = district.pop('name')\n",
    "        df_districts.append(district)\n",
    "\n",
    "df_districts = pd.DataFrame(df_districts)\n",
    "\n",
    "# Remove placeholder rows.\n",
    "df_districts = df_districts[(df_districts['district_id'] != '0') & (df_districts['state_id'] != '0')] \n",
    "df_districts.sort_values(by=['state_id', 'district_id'], inplace=True)\n",
    "\n",
    "print(df_districts.shape)\n",
    "df_districts[df_districts['state_name'] == 'Karnataka']"
   ]
  },
  {
   "cell_type": "code",
   "execution_count": null,
   "metadata": {},
   "outputs": [],
   "source": []
  },
  {
   "cell_type": "code",
   "execution_count": null,
   "metadata": {},
   "outputs": [],
   "source": [
    "def parse_filepath(filepath):\n",
    "    parts = os.path.normpath(filepath).split(os.sep)\n",
    "    filename = parts[-1]\n",
    "\n",
    "    if len(parts) >= 2 and parts[-2].isdigit():\n",
    "        state_id = int(parts[-2])\n",
    "    else:\n",
    "        state_id = None\n",
    "\n",
    "    match = re.match(r\"(\\d{4})_(\\d{1,2})\\.json\", filename)\n",
    "    if match:\n",
    "        year, month = map(int, match.groups())\n",
    "        return {\n",
    "            \"state_id\": state_id,\n",
    "            \"year\": year,\n",
    "            \"month\": month\n",
    "        }\n",
    "    else:\n",
    "        raise ValueError(f\"Filename {filename} does not match expected pattern\")"
   ]
  },
  {
   "cell_type": "code",
   "execution_count": null,
   "metadata": {},
   "outputs": [],
   "source": [
    "def flatten_record(record):\n",
    "    flat = {'district_id': record['district_id']}\n",
    "    for entry in record['data']:\n",
    "        flat[entry['title']] = entry['count']\n",
    "    return flat"
   ]
  },
  {
   "cell_type": "code",
   "execution_count": null,
   "metadata": {},
   "outputs": [],
   "source": [
    "def process_dashboard(filepath):\n",
    "\n",
    "    with open(filepath) as f:\n",
    "        data = json.load(f)\n",
    "\n",
    "    records = []\n",
    "    for item in data['registrationPTdata']:\n",
    "        for district in item['districts']:\n",
    "            record = flatten_record(district)\n",
    "\n",
    "            parts = parse_filepath(filepath)\n",
    "            record.update(parts)\n",
    "            \n",
    "            records.append(record)\n",
    "    return pd.DataFrame(records)"
   ]
  },
  {
   "cell_type": "code",
   "execution_count": null,
   "metadata": {},
   "outputs": [],
   "source": [
    "def clean_column_name(col):\n",
    "    col = col.lower()\n",
    "    col = re.sub(r'[^a-z0-9]+', '_', col)\n",
    "    col = col.strip('_')\n",
    "    return col"
   ]
  },
  {
   "cell_type": "code",
   "execution_count": null,
   "metadata": {},
   "outputs": [],
   "source": [
    "files = glob.glob('../data/dashboard/**/*.json', recursive=True)\n",
    "print('Number of files:', len(files), '\\n')\n",
    "\n",
    "records = []\n",
    "for filepath in files:\n",
    "    records.append(process_dashboard(filepath))\n",
    "\n",
    "df_dashboard = pd.concat(records)\n",
    "\n",
    "df_dashboard.columns = [clean_column_name(c) for c in df_dashboard.columns]\n",
    "df_dashboard = df_dashboard.reindex(sorted(df_dashboard.columns), axis=1)\n",
    "\n",
    "print(df_dashboard.shape)\n",
    "df_dashboard.head(3)"
   ]
  },
  {
   "cell_type": "code",
   "execution_count": null,
   "metadata": {},
   "outputs": [],
   "source": [
    "# Handle typo in the column name: Angwanwadi\n",
    "# Ref: https://github.com/aiforhealth-xyz/poshan-tracker/discussions/1\n",
    "df_dashboard['anganwadi_centers'] = df_dashboard.apply(\n",
    "    lambda row: row['anganwadi_centers'] if pd.notna(row['anganwadi_centers']) else row['angwanwadi_centers'],\n",
    "    axis=1\n",
    ")\n",
    "df_dashboard = df_dashboard.drop(columns=['angwanwadi_centers'])"
   ]
  },
  {
   "cell_type": "code",
   "execution_count": null,
   "metadata": {},
   "outputs": [],
   "source": [
    "df_dashboard.to_csv(f'{data_dir}/dashboard.csv', index=False)\n",
    "\n",
    "print(df_dashboard.shape)\n",
    "df_dashboard.head(3)"
   ]
  },
  {
   "cell_type": "code",
   "execution_count": null,
   "metadata": {},
   "outputs": [],
   "source": []
  }
 ],
 "metadata": {
  "kernelspec": {
   "display_name": "Python 3",
   "language": "python",
   "name": "python3"
  },
  "language_info": {
   "codemirror_mode": {
    "name": "ipython",
    "version": 3
   },
   "file_extension": ".py",
   "mimetype": "text/x-python",
   "name": "python",
   "nbconvert_exporter": "python",
   "pygments_lexer": "ipython3",
   "version": "3.9.6"
  }
 },
 "nbformat": 4,
 "nbformat_minor": 2
}
