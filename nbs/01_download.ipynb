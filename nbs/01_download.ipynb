{
 "cells": [
  {
   "cell_type": "markdown",
   "metadata": {},
   "source": [
    "# Part 1. Download Data\n",
    "\n",
    "Website: https://www.poshantracker.in/statistics"
   ]
  },
  {
   "cell_type": "code",
   "execution_count": null,
   "metadata": {},
   "outputs": [],
   "source": [
    "import warnings\n",
    "warnings.filterwarnings(\"ignore\")\n",
    "\n",
    "import os\n",
    "import time\n",
    "from datetime import datetime\n",
    "\n",
    "import json\n",
    "from tqdm import tqdm\n",
    "\n",
    "import requests\n",
    "\n",
    "from selenium import webdriver\n",
    "from selenium.webdriver.common.by import By\n",
    "from selenium.webdriver.support.ui import Select, WebDriverWait\n",
    "from selenium.webdriver.support import expected_conditions as EC"
   ]
  },
  {
   "cell_type": "code",
   "execution_count": null,
   "metadata": {},
   "outputs": [],
   "source": [
    "data_dir = '../data'\n",
    "os.makedirs(data_dir, exist_ok=True)"
   ]
  },
  {
   "cell_type": "code",
   "execution_count": null,
   "metadata": {},
   "outputs": [],
   "source": []
  },
  {
   "cell_type": "markdown",
   "metadata": {},
   "source": [
    "## Part 1. Download metadata"
   ]
  },
  {
   "cell_type": "code",
   "execution_count": null,
   "metadata": {},
   "outputs": [],
   "source": [
    "# 1. Set up Selenium WebDriver for Chrome.\n",
    "driver = webdriver.Chrome()\n",
    "driver.get(\"https://www.poshantracker.in/statistics\")"
   ]
  },
  {
   "cell_type": "code",
   "execution_count": null,
   "metadata": {},
   "outputs": [],
   "source": [
    "# 2. Wait for the state dropdown to load.\n",
    "wait = WebDriverWait(driver, 10)"
   ]
  },
  {
   "cell_type": "code",
   "execution_count": null,
   "metadata": {},
   "outputs": [],
   "source": [
    "# 3. Get all states.\n",
    "state_select_elem = wait.until(EC.presence_of_element_located((By.NAME, \"selectstate\")))\n",
    "state_select = Select(state_select_elem)\n",
    "\n",
    "states = []\n",
    "for option in state_select.options:\n",
    "    state_name = option.text.strip()\n",
    "    state_value = option.get_attribute('value')\n",
    "    if state_value:\n",
    "        states.append({'name': state_name, 'value': state_value})\n",
    "\n",
    "with open(f'{data_dir}/states.json', 'w') as f:\n",
    "    json.dump(states, f, indent=4)"
   ]
  },
  {
   "cell_type": "code",
   "execution_count": null,
   "metadata": {},
   "outputs": [],
   "source": [
    "# 4. Get all districts for each state.\n",
    "districts = []\n",
    "\n",
    "for state in tqdm(states):\n",
    "    # 3. Select the state\n",
    "    state_select.select_by_value(state['value'])\n",
    "    # 4. Wait for the districts dropdown to update\n",
    "    time.sleep(1.5)  # Or use WebDriverWait for more reliability\n",
    "\n",
    "    district_select_elem = wait.until(EC.presence_of_element_located((By.NAME, \"selectdistrict\")))\n",
    "    district_select = Select(district_select_elem)\n",
    "\n",
    "    state_districts = []\n",
    "    for option in district_select.options:\n",
    "        district_name = option.text.strip()\n",
    "        district_value = option.get_attribute('value')\n",
    "        if district_value:\n",
    "            state_districts.append({'name': district_name, 'value': district_value})\n",
    "\n",
    "    districts.append({\n",
    "        'state': state,\n",
    "        'districts': state_districts\n",
    "    })\n",
    "\n",
    "with open(f'{data_dir}/districts.json', 'w') as f:\n",
    "    json.dump(districts, f, indent=4)"
   ]
  },
  {
   "cell_type": "code",
   "execution_count": null,
   "metadata": {},
   "outputs": [],
   "source": [
    "# 5. Get all months.\n",
    "month_select_elem = wait.until(EC.presence_of_element_located((By.CSS_SELECTOR, 'select[id=\"sel1 monthSelection\"]')))\n",
    "month_select = Select(month_select_elem)\n",
    "\n",
    "months = []\n",
    "for option in month_select.options:\n",
    "    month_name = option.text.strip()\n",
    "    month_value = option.get_attribute('value')\n",
    "    if month_value:\n",
    "        months.append({'name': month_name, 'value': month_value})\n",
    "\n",
    "with open(f'{data_dir}/months.json', 'w') as f:\n",
    "    json.dump(months, f, indent=4)"
   ]
  },
  {
   "cell_type": "code",
   "execution_count": null,
   "metadata": {},
   "outputs": [],
   "source": [
    "driver.quit()"
   ]
  },
  {
   "cell_type": "code",
   "execution_count": null,
   "metadata": {},
   "outputs": [],
   "source": []
  },
  {
   "cell_type": "markdown",
   "metadata": {},
   "source": [
    "## Part 2. Download actual data"
   ]
  },
  {
   "cell_type": "code",
   "execution_count": null,
   "metadata": {},
   "outputs": [],
   "source": [
    "version = f'v{datetime.now().strftime(\"%Y%m%d%H\")}'"
   ]
  },
  {
   "cell_type": "code",
   "execution_count": null,
   "metadata": {},
   "outputs": [],
   "source": [
    "def fetch_and_write(url, filepath):\n",
    "\n",
    "    time.sleep(0.1)\n",
    "\n",
    "    response = requests.get(url)\n",
    "    try:\n",
    "        response.raise_for_status()\n",
    "    except requests.exceptions.HTTPError as err:\n",
    "        print(err)\n",
    "    else:\n",
    "        # Make sure that the directory exists.\n",
    "        os.makedirs(os.path.dirname(filepath), exist_ok=True)\n",
    "\n",
    "        with open(filepath, 'w') as f:\n",
    "            json.dump(response.json(), f, indent=4)\n",
    "        return response"
   ]
  },
  {
   "cell_type": "code",
   "execution_count": null,
   "metadata": {},
   "outputs": [],
   "source": []
  },
  {
   "cell_type": "markdown",
   "metadata": {},
   "source": [
    "### Section 1. Overall"
   ]
  },
  {
   "cell_type": "code",
   "execution_count": null,
   "metadata": {},
   "outputs": [],
   "source": [
    "with open('../data/months.json') as f:\n",
    "    months = json.load(f)"
   ]
  },
  {
   "cell_type": "code",
   "execution_count": null,
   "metadata": {},
   "outputs": [],
   "source": [
    "for month in tqdm(months):\n",
    "    (month_num, year) = month['value'].split('_')\n",
    "    \n",
    "    url = f\"https://cdn.poshantracker.in/pt_dashboard/{year}/{month_num}/PT_Dashboard.json?{version}\"\n",
    "    filepath = f\"{data_dir}/dashboard/{year}_{month_num}.json\"\n",
    "    fetch_and_write(url, filepath)\n",
    "\n",
    "    url = f\"https://cdn.poshantracker.in/pt_dashboard/{year}/{month_num}/monthWiseActiveBeneficiaries.json?{version}\"\n",
    "    filepath = f\"{data_dir}/beneficiaries/{year}_{month_num}.json\"\n",
    "    fetch_and_write(url, filepath)\n",
    "    \n",
    "    url = f\"https://cdn.poshantracker.in/pt_dashboard/{year}/{month_num}/keyServices_v2.json?{version}\"\n",
    "    filepath = f\"{data_dir}/services_v2/{year}_{month_num}.json\"\n",
    "    fetch_and_write(url, filepath)\n",
    "\n",
    "    url = f\"https://cdn.poshantracker.in/pt_dashboard/{year}/{month_num}/aspirational_district.json?{version}\"\n",
    "    filepath = f\"{data_dir}/aspirational_district/{year}_{month_num}.json\"\n",
    "    fetch_and_write(url, filepath)\n",
    "\n",
    "    url = f\"https://cdn.poshantracker.in/pt_dashboard/{year}/{month_num}/PT_Dashboard_growthmonitoring.json?{version}\"\n",
    "    filepath = f\"{data_dir}/growth_monitoring/{year}_{month_num}.json\"\n",
    "    fetch_and_write(url, filepath)\n",
    "\n",
    "    url = f\"https://cdn.poshantracker.in/pt_dashboard/{year}/{month_num}/PT_Dashboard_homevisit.json?{version}\"\n",
    "    filepath = f\"{data_dir}/home_visits/{year}_{month_num}.json\"\n",
    "    fetch_and_write(url, filepath)\n",
    "\n",
    "    url = f\"https://cdn.poshantracker.in/pt_dashboard/{year}/{month_num}/AnganwadiCenter_InternalDashboard.json?{version}\"\n",
    "    filepath = f\"{data_dir}/anganwadi/{year}_{month_num}.json\"\n",
    "    fetch_and_write(url, filepath)\n",
    "\n",
    "    url = f\"https://cdn.poshantracker.in/pt_dashboard/{year}/{month_num}/awcInfrastructure_InternalDashboard.json?{version}\"\n",
    "    filepath = f\"{data_dir}/awc_infrastructure/{year}_{month_num}.json\"\n",
    "    fetch_and_write(url, filepath)\n",
    "\n",
    "    url = f\"https://cdn.poshantracker.in/pt_dashboard/{year}/{month_num}/keyServices_v3.json?{version}\"\n",
    "    filepath = f\"{data_dir}/services_v3/{year}_{month_num}.json\"\n",
    "    fetch_and_write(url, filepath)"
   ]
  },
  {
   "cell_type": "code",
   "execution_count": null,
   "metadata": {},
   "outputs": [],
   "source": []
  },
  {
   "cell_type": "markdown",
   "metadata": {},
   "source": [
    "### Section 2. State level"
   ]
  },
  {
   "cell_type": "code",
   "execution_count": null,
   "metadata": {},
   "outputs": [],
   "source": [
    "with open('../data/states.json') as f:\n",
    "    states = json.load(f)"
   ]
  },
  {
   "cell_type": "code",
   "execution_count": null,
   "metadata": {},
   "outputs": [],
   "source": [
    "for month in tqdm(months):\n",
    "    (month_num, year) = month['value'].split('_')\n",
    "\n",
    "    for state in states:\n",
    "        state_value = state['value']\n",
    "\n",
    "        url = f\"https://cdn.poshantracker.in/pt_dashboard/{year}/{month_num}/{state_value}/{state_value}_PT_Dashboard.json?{version}\"\n",
    "        filepath = f\"{data_dir}/dashboard/{state_value}/{year}_{month_num}.json\"\n",
    "        fetch_and_write(url, filepath)\n",
    "\n",
    "        url = f\"https://cdn.poshantracker.in/pt_dashboard/{year}/{month_num}/{state_value}/{state_value}_monthWiseActiveBeneficiaries.json?{version}\"\n",
    "        filepath = f\"{data_dir}/beneficiaries/{state_value}/{year}_{month_num}.json\"\n",
    "        fetch_and_write(url, filepath)\n",
    "        \n",
    "        url = f\"https://cdn.poshantracker.in/pt_dashboard/{year}/{month_num}/{state_value}/{state_value}_keyServices_v2.json?{version}\"\n",
    "        filepath = f\"{data_dir}/services_v2/{state_value}/{year}_{month_num}.json\"\n",
    "        fetch_and_write(url, filepath)\n",
    "\n",
    "        url = f\"https://cdn.poshantracker.in/pt_dashboard/{year}/{month_num}/{state_value}/{state_value}_aspirational_district.json?{version}\"\n",
    "        filepath = f\"{data_dir}/aspirational_district/{state_value}/{year}_{month_num}.json\"\n",
    "        fetch_and_write(url, filepath)\n",
    "\n",
    "        url = f\"https://cdn.poshantracker.in/pt_dashboard/{year}/{month_num}/{state_value}/{state_value}_PT_Dashboard_growthmonitoring.json?{version}\"\n",
    "        filepath = f\"{data_dir}/growth_monitoring/{state_value}/{year}_{month_num}.json\"\n",
    "        fetch_and_write(url, filepath)\n",
    "\n",
    "        url = f\"https://cdn.poshantracker.in/pt_dashboard/{year}/{month_num}/{state_value}/{state_value}_PT_Dashboard_homevisit.json?{version}\"\n",
    "        filepath = f\"{data_dir}/home_visits/{state_value}/{year}_{month_num}.json\"\n",
    "        fetch_and_write(url, filepath)\n",
    "\n",
    "        url = f\"https://cdn.poshantracker.in/pt_dashboard/{year}/{month_num}/{state_value}/{state_value}_AnganwadiCenter_InternalDashboard.json?{version}\"\n",
    "        filepath = f\"{data_dir}/anganwadi/{state_value}/{year}_{month_num}.json\"\n",
    "        fetch_and_write(url, filepath)\n",
    "\n",
    "        url = f\"https://cdn.poshantracker.in/pt_dashboard/{year}/{month_num}/{state_value}/{state_value}_awcInfrastructure_InternalDashboard.json?{version}\"\n",
    "        filepath = f\"{data_dir}/awc_infrastructure/{state_value}/{year}_{month_num}.json\"\n",
    "        fetch_and_write(url, filepath)\n",
    "\n",
    "        url = f\"https://cdn.poshantracker.in/pt_dashboard/{year}/{month_num}/{state_value}/{state_value}_keyServices_v3.json?{version}\"\n",
    "        filepath = f\"{data_dir}/services_v3/{state_value}/{year}_{month_num}.json\"\n",
    "        fetch_and_write(url, filepath)"
   ]
  },
  {
   "cell_type": "code",
   "execution_count": null,
   "metadata": {},
   "outputs": [],
   "source": []
  },
  {
   "cell_type": "markdown",
   "metadata": {},
   "source": [
    "### Section 3. District level"
   ]
  },
  {
   "cell_type": "code",
   "execution_count": null,
   "metadata": {},
   "outputs": [],
   "source": []
  },
  {
   "cell_type": "code",
   "execution_count": null,
   "metadata": {},
   "outputs": [],
   "source": []
  }
 ],
 "metadata": {
  "kernelspec": {
   "display_name": "Python 3",
   "language": "python",
   "name": "python3"
  },
  "language_info": {
   "codemirror_mode": {
    "name": "ipython",
    "version": 3
   },
   "file_extension": ".py",
   "mimetype": "text/x-python",
   "name": "python",
   "nbconvert_exporter": "python",
   "pygments_lexer": "ipython3",
   "version": "3.9.6"
  }
 },
 "nbformat": 4,
 "nbformat_minor": 2
}
