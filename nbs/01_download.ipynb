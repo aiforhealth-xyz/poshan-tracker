{
 "cells": [
  {
   "cell_type": "markdown",
   "metadata": {},
   "source": [
    "# Part 1. Download Data\n",
    "\n",
    "Website: https://www.poshantracker.in/statistics"
   ]
  },
  {
   "cell_type": "code",
   "execution_count": null,
   "metadata": {},
   "outputs": [],
   "source": [
    "import warnings\n",
    "warnings.filterwarnings(\"ignore\")\n",
    "\n",
    "import os\n",
    "import time\n",
    "\n",
    "import json\n",
    "from tqdm import tqdm\n",
    "\n",
    "from selenium import webdriver\n",
    "from selenium.webdriver.common.by import By\n",
    "from selenium.webdriver.support.ui import Select, WebDriverWait\n",
    "from selenium.webdriver.support import expected_conditions as EC"
   ]
  },
  {
   "cell_type": "code",
   "execution_count": null,
   "metadata": {},
   "outputs": [
    {
     "ename": "NameError",
     "evalue": "name 'os' is not defined",
     "output_type": "error",
     "traceback": [
      "\u001b[0;31m---------------------------------------------------------------------------\u001b[0m",
      "\u001b[0;31mNameError\u001b[0m                                 Traceback (most recent call last)",
      "Cell \u001b[0;32mIn[1], line 1\u001b[0m\n\u001b[0;32m----> 1\u001b[0m \u001b[43mos\u001b[49m\u001b[38;5;241m.\u001b[39mmakedirs(\u001b[38;5;124m'\u001b[39m\u001b[38;5;124m../data\u001b[39m\u001b[38;5;124m'\u001b[39m, exist_ok\u001b[38;5;241m=\u001b[39m\u001b[38;5;28;01mTrue\u001b[39;00m)\n",
      "\u001b[0;31mNameError\u001b[0m: name 'os' is not defined"
     ]
    }
   ],
   "source": [
    "data_dir = '../data'\n",
    "os.makedirs(data_dir, exist_ok=True)"
   ]
  },
  {
   "cell_type": "code",
   "execution_count": null,
   "metadata": {},
   "outputs": [],
   "source": [
    "# 1. Set up Selenium WebDriver for Chrome.\n",
    "driver = webdriver.Chrome()\n",
    "driver.get(\"https://www.poshantracker.in/statistics\")"
   ]
  },
  {
   "cell_type": "code",
   "execution_count": null,
   "metadata": {},
   "outputs": [],
   "source": [
    "# 2. Wait for the state dropdown to load.\n",
    "wait = WebDriverWait(driver, 10)"
   ]
  },
  {
   "cell_type": "code",
   "execution_count": null,
   "metadata": {},
   "outputs": [],
   "source": [
    "# 3. Get all states.\n",
    "state_select_elem = wait.until(EC.presence_of_element_located((By.NAME, \"selectstate\")))\n",
    "state_select = Select(state_select_elem)\n",
    "\n",
    "states = []\n",
    "for option in state_select.options:\n",
    "    state_name = option.text.strip()\n",
    "    state_value = option.get_attribute('value')\n",
    "    if state_value:\n",
    "        states.append({'name': state_name, 'value': state_value})\n",
    "\n",
    "with open(f'{data_dir}/states.json', 'w') as f:\n",
    "    json.dump(states, f, indent=4)"
   ]
  },
  {
   "cell_type": "code",
   "execution_count": null,
   "metadata": {},
   "outputs": [],
   "source": [
    "# 4. Get all districts for each state.\n",
    "districts = []\n",
    "\n",
    "for state in tqdm(states):\n",
    "    # 3. Select the state\n",
    "    state_select.select_by_value(state['value'])\n",
    "    # 4. Wait for the districts dropdown to update\n",
    "    time.sleep(1.5)  # Or use WebDriverWait for more reliability\n",
    "\n",
    "    district_select_elem = wait.until(EC.presence_of_element_located((By.NAME, \"selectdistrict\")))\n",
    "    district_select = Select(district_select_elem)\n",
    "\n",
    "    state_districts = []\n",
    "    for option in district_select.options:\n",
    "        district_name = option.text.strip()\n",
    "        district_value = option.get_attribute('value')\n",
    "        if district_value:\n",
    "            state_districts.append({'name': district_name, 'value': district_value})\n",
    "\n",
    "    districts.append({\n",
    "        'state': state,\n",
    "        'districts': state_districts\n",
    "    })\n",
    "\n",
    "with open(f'{data_dir}/districts.json', 'w') as f:\n",
    "    json.dump(districts, f, indent=4)"
   ]
  },
  {
   "cell_type": "code",
   "execution_count": null,
   "metadata": {},
   "outputs": [],
   "source": [
    "# 5. Get all months.\n",
    "month_select_elem = wait.until(EC.presence_of_element_located((By.CSS_SELECTOR, 'select[id=\"sel1 monthSelection\"]')))\n",
    "month_select = Select(month_select_elem)\n",
    "\n",
    "months = []\n",
    "for option in month_select.options:\n",
    "    month_name = option.text.strip()\n",
    "    month_value = option.get_attribute('value')\n",
    "    if month_value:\n",
    "        months.append({'name': month_name, 'value': month_value})\n",
    "\n",
    "with open(f'{data_dir}/months.json', 'w') as f:\n",
    "    json.dump(months, f, indent=4)"
   ]
  },
  {
   "cell_type": "code",
   "execution_count": null,
   "metadata": {},
   "outputs": [],
   "source": [
    "driver.quit()"
   ]
  },
  {
   "cell_type": "code",
   "execution_count": null,
   "metadata": {},
   "outputs": [],
   "source": []
  }
 ],
 "metadata": {
  "kernelspec": {
   "display_name": "Python 3",
   "language": "python",
   "name": "python3"
  },
  "language_info": {
   "codemirror_mode": {
    "name": "ipython",
    "version": 3
   },
   "file_extension": ".py",
   "mimetype": "text/x-python",
   "name": "python",
   "nbconvert_exporter": "python",
   "pygments_lexer": "ipython3",
   "version": "3.9.6"
  }
 },
 "nbformat": 4,
 "nbformat_minor": 2
}
